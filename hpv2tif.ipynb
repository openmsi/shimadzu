{
 "cells": [
  {
   "cell_type": "code",
   "execution_count": 1,
   "id": "6f78e5b7",
   "metadata": {},
   "outputs": [],
   "source": [
    "import numpy as np\n",
    "import array\n",
    "import sys\n",
    "from PIL import Image\n",
    "import tifffile"
   ]
  },
  {
   "cell_type": "code",
   "execution_count": 2,
   "id": "f61d90a1",
   "metadata": {},
   "outputs": [],
   "source": [
    "fileName = 'Camera_22_34_10'\n",
    "inputFile = fileName + '.dat'\n",
    "outputFile = fileName + '.tif'"
   ]
  },
  {
   "cell_type": "code",
   "execution_count": 3,
   "id": "77ef6c59",
   "metadata": {},
   "outputs": [],
   "source": [
    "with open(inputFile, 'rb') as fobj:\n",
    "    raw_bytes = fobj.read()"
   ]
  },
  {
   "cell_type": "code",
   "execution_count": 10,
   "id": "49cb7541",
   "metadata": {},
   "outputs": [
    {
     "name": "stdout",
     "output_type": "stream",
     "text": [
      "Recording speed: 1420 ns\n"
     ]
    }
   ],
   "source": [
    "# Find data tag for recording speed by searching\n",
    "offset = raw_bytes.find(b'\\x30\\x30\\x07\\x30')\n",
    "offset += 14 # account for the ten bytes of metadata (see below)\n",
    "nbytes = 4\n",
    "byte_data=raw_bytes[offset:nbytes+offset]\n",
    "\n",
    "print('Recording speed: ' + byte_data.decode('ascii') + ' ns')"
   ]
  },
  {
   "cell_type": "code",
   "execution_count": 11,
   "id": "4638e6ab",
   "metadata": {},
   "outputs": [
    {
     "name": "stdout",
     "output_type": "stream",
     "text": [
      "Exposure time: 570\u0000 ns\n"
     ]
    }
   ],
   "source": [
    "# Find data tag for exposure time by searching\n",
    "offset = raw_bytes.find(b'\\x30\\x30\\x08\\x30')\n",
    "offset += 14 # account for the 14 bytes of metadata \n",
    "\n",
    "# Next 4 bytes are the actual value\n",
    "nbytes = 4\n",
    "byte_data=raw_bytes[offset:nbytes+offset]\n",
    "\n",
    "print('Exposure time: ' + byte_data.decode('ascii') + ' ns')"
   ]
  },
  {
   "cell_type": "code",
   "execution_count": 12,
   "id": "72638e54",
   "metadata": {},
   "outputs": [
    {
     "name": "stdout",
     "output_type": "stream",
     "text": [
      "Date: 2023-6-29\n",
      "Time: 22:34:10\n"
     ]
    }
   ],
   "source": [
    "# Find data tag for time of recording\n",
    "offset = raw_bytes.find(b'\\x40\\x40\\x0e\\x40')\n",
    "offset += 14 # account for the fourteen bytes of metadata \n",
    "\n",
    "# Next 16 bytes are the actual value\n",
    "#offset += nbytes\n",
    "nbytes = 16\n",
    "byte_data=raw_bytes[offset:nbytes+offset]\n",
    "#print(''.join(['\\\\x%02x' % b for b in byte_data]))\n",
    "#print(byte_data)\n",
    "year = int.from_bytes(byte_data[0:2],byteorder = \"little\", signed=False)\n",
    "month = int.from_bytes(byte_data[2:4],byteorder = \"little\", signed=False)\n",
    "day = int.from_bytes(byte_data[6:8],byteorder = \"little\", signed=False)\n",
    "hour = int.from_bytes( byte_data[8:10], byteorder = \"little\", signed=False )\n",
    "minute = int.from_bytes( byte_data[10:12], byteorder = \"little\", signed=False )\n",
    "second = int.from_bytes( byte_data[12:14], byteorder = \"little\", signed=False )\n",
    "print('Date: ' + str(year) + '-' + str(month) + '-' + str(day) )\n",
    "print('Time: ' + str(hour) + ':' + str(minute) + ':' + str(second) )"
   ]
  },
  {
   "cell_type": "code",
   "execution_count": 14,
   "id": "48f4c363",
   "metadata": {},
   "outputs": [],
   "source": [
    "# Find data tag for image data\n",
    "offset = raw_bytes.find(b'\\xa0\\xa0\\x01\\xa0')\n",
    "offset += 14  # account for 14 bytes of metadata\n",
    "\n",
    "# Next imageNum x 250 x 400 x 2 bytes are the actual values\n",
    "imageNum = 128\n",
    "nbytes = imageNum * 250 * 400 * 2\n",
    "byte_data=raw_bytes[offset:nbytes+offset]"
   ]
  },
  {
   "cell_type": "code",
   "execution_count": 15,
   "id": "1d02e2b2",
   "metadata": {},
   "outputs": [],
   "source": [
    "with tifffile.TiffWriter(outputFile) as tiff:\n",
    "    for i in range(0,128):\n",
    "        imagebytes=np.frombuffer(byte_data[i*200000:200000*(i+1)],dtype=np.int16)\n",
    "        imagebytes=np.reshape(imagebytes,newshape=(250,400)) >> 6\n",
    "        #frames.append(Image.fromarray(imagebytes,'I;16'))\n",
    "    \n",
    "        tiff.save(imagebytes)"
   ]
  },
  {
   "cell_type": "code",
   "execution_count": null,
   "id": "d5a56f6a",
   "metadata": {},
   "outputs": [],
   "source": []
  }
 ],
 "metadata": {
  "kernelspec": {
   "display_name": "Python 3 (ipykernel)",
   "language": "python",
   "name": "python3"
  },
  "language_info": {
   "codemirror_mode": {
    "name": "ipython",
    "version": 3
   },
   "file_extension": ".py",
   "mimetype": "text/x-python",
   "name": "python",
   "nbconvert_exporter": "python",
   "pygments_lexer": "ipython3",
   "version": "3.9.7"
  }
 },
 "nbformat": 4,
 "nbformat_minor": 5
}
